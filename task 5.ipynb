{
 "cells": [
  {
   "cell_type": "code",
   "execution_count": null,
   "id": "72a0dafb-9bca-450a-b80d-2042715f7d06",
   "metadata": {},
   "outputs": [],
   "source": []
  }
 ],
 "metadata": {
  "kernelspec": {
   "display_name": "",
   "name": ""
  },
  "language_info": {
   "name": ""
  }
 },
 "nbformat": 4,
 "nbformat_minor": 5
}
